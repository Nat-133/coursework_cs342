{
 "cells": [
  {
   "cell_type": "code",
   "execution_count": 61,
   "metadata": {},
   "outputs": [],
   "source": [
    "\"\"\" imports \"\"\"\n",
    "import matplotlib.pyplot as plt\n",
    "import matplotlib.cm as cm\n",
    "import numpy as np\n",
    "from sklearn.model_selection import train_test_split"
   ]
  },
  {
   "cell_type": "code",
   "execution_count": 60,
   "metadata": {},
   "outputs": [
    {
     "data": {
      "text/plain": [
       "(150, 4)"
      ]
     },
     "execution_count": 60,
     "metadata": {},
     "output_type": "execute_result"
    }
   ],
   "source": [
    "\"\"\" load data \"\"\"\n",
    "flowers : list[str] = []\n",
    "\n",
    "def assignFlower(raw : bytes) -> int:\n",
    "    \"\"\" converts bytes data to a string, then assigns each flower type an int \"\"\"\n",
    "    global flowers\n",
    "    flower : str = raw.decode(\"utf-8\")\n",
    "    flowers += [flower] if flower not in flowers else []\n",
    "    return flowers.index(flower)\n",
    "\n",
    "data = np.loadtxt(open(\"iris.data\", \"rb\"), delimiter=\",\", converters={4 : assignFlower})\n",
    "X = data[:,:4]\n",
    "y = data[:,4]\n",
    "\n",
    "k = len(flowers)\n",
    "X.shape"
   ]
  },
  {
   "cell_type": "code",
   "execution_count": 71,
   "metadata": {},
   "outputs": [],
   "source": [
    "\"\"\" provides the top 2 PCs \"\"\"\n",
    "\n",
    "def topPCs(dataset : np.ndarray) -> tuple[np.ndarray]:\n",
    "    #d = (dataset-dataset.mean())/dataset.std()\n",
    "    d=dataset\n",
    "    u, s, vh = np.linalg.svd(d, full_matrices=True)\n",
    "    return vh[:2]  # return\n",
    "\n",
    "def svd(dataset : np.ndarray) -> np.ndarray:\n",
    "    #d = (dataset-dataset.mean())/dataset.std()\n",
    "    d=dataset\n",
    "    u, ls, vh = np.linalg.svd(d, full_matrices=True)\n",
    "\n",
    "    s = np.zeros((u.shape[0],2))\n",
    "    np.fill_diagonal(s, ls)\n",
    "\n",
    "    dataset_svd = np.dot(u, s)\n",
    "\n",
    "    return dataset_svd"
   ]
  },
  {
   "cell_type": "code",
   "execution_count": 76,
   "metadata": {},
   "outputs": [
    {
     "data": {
      "image/png": "[encoded data removed]",
      "text/plain": [
       "<Figure size 432x288 with 1 Axes>"
      ]
     },
     "metadata": {
      "needs_background": "light"
     },
     "output_type": "display_data"
    }
   ],
   "source": [
    "\"\"\" display data as 2D plot \"\"\"\n",
    "Z : np.ndarray = svd(X)\n",
    "\n",
    "for i, colour in zip(range(len(flowers)), cm.rainbow(np.linspace(0,1, len(flowers)))):\n",
    "    flowerIndexes = [int(j) for j, f in enumerate(y) if f==i]\n",
    "    Zp = np.array([Z[j] for j in flowerIndexes])\n",
    "    plt.scatter(Zp[:,0], Zp[:,1], color=colour, label=f\"{flowers[i]}\")\n",
    "\n",
    "plt.title(\"Dataset Visualised with the Top 2 PCs\")\n",
    "plt.legend(loc=\"upper left\")\n",
    "plt.show()"
   ]
  },
  {
   "cell_type": "code",
   "execution_count": null,
   "metadata": {},
   "outputs": [],
   "source": []
  }
 ],
 "metadata": {
  "interpreter": {
   "hash": "04eb8653eed3a3ff5501243304b3cab84c27382fc314b0e81a61e6257bf31ae9"
  },
  "kernelspec": {
   "display_name": "Python 3.10.0 64-bit",
   "language": "python",
   "name": "python3"
  },
  "language_info": {
   "codemirror_mode": {
    "name": "ipython",
    "version": 3
   },
   "file_extension": ".py",
   "mimetype": "text/x-python",
   "name": "python",
   "nbconvert_exporter": "python",
   "pygments_lexer": "ipython3",
   "version": "3.10.0"
  },
  "orig_nbformat": 4
 },
 "nbformat": 4,
 "nbformat_minor": 2
}
