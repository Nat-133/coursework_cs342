{
 "cells": [
  {
   "cell_type": "code",
   "execution_count": 1,
   "metadata": {},
   "outputs": [],
   "source": [
    "\"\"\" imports \"\"\"\n",
    "import matplotlib.pyplot as plt\n",
    "import numpy as np\n",
    "from sklearn.model_selection import train_test_split"
   ]
  },
  {
   "cell_type": "code",
   "execution_count": 14,
   "metadata": {},
   "outputs": [],
   "source": [
    "\"\"\" load data \"\"\"\n",
    "flowers : list[str] = []\n",
    "\n",
    "def assignFlower(raw : bytes) -> int:\n",
    "    \"\"\" converts bytes data to a string, then assigns each flower type an int \"\"\"\n",
    "    global flowers\n",
    "    flower : str = raw.decode(\"utf-8\")\n",
    "    flowers += [flower] if flower not in flowers else []\n",
    "    return flowers.index(flower)\n",
    "\n",
    "data = np.loadtxt(open(\"iris.data\", \"rb\"), delimiter=\",\", converters={4 : assignFlower})\n",
    "X = data[:,:4]\n",
    "y = data[:,4]\n",
    "\n",
    "k = len(flowers)"
   ]
  },
  {
   "cell_type": "code",
   "execution_count": 15,
   "metadata": {},
   "outputs": [
    {
     "data": {
      "text/plain": [
       "4"
      ]
     },
     "execution_count": 15,
     "metadata": {},
     "output_type": "execute_result"
    }
   ],
   "source": [
    "\"\"\" provides the top 2 PCs \"\"\"\n",
    "\n",
    "def pca(dataset : np.ndarray) -> np.array:\n",
    "    d = (dataset-dataset.mean())/dataset.std()\n",
    "    u, s, vh = np.linalg.svd(d, full_matrices=True)\n",
    "    return vh[:2]  # returns\n",
    "\n",
    "vh = pca(X)\n",
    "len(vh[0])"
   ]
  },
  {
   "cell_type": "code",
   "execution_count": null,
   "metadata": {},
   "outputs": [],
   "source": []
  }
 ],
 "metadata": {
  "interpreter": {
   "hash": "04eb8653eed3a3ff5501243304b3cab84c27382fc314b0e81a61e6257bf31ae9"
  },
  "kernelspec": {
   "display_name": "Python 3.10.0 64-bit",
   "language": "python",
   "name": "python3"
  },
  "language_info": {
   "codemirror_mode": {
    "name": "ipython",
    "version": 3
   },
   "file_extension": ".py",
   "mimetype": "text/x-python",
   "name": "python",
   "nbconvert_exporter": "python",
   "pygments_lexer": "ipython3",
   "version": "3.10.0"
  },
  "orig_nbformat": 4
 },
 "nbformat": 4,
 "nbformat_minor": 2
}
